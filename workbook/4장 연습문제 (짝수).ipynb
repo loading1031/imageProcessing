{
 "cells": [
  {
   "cell_type": "markdown",
   "id": "a92f32c1",
   "metadata": {},
   "source": [
    "2. 윈도우를 지정하는 cv2.namedWindow() 함수의 두 번째 인수(flags)에 대한 옵션은 여러 가지가 있다.  \n",
    "   그 중에서 cv2.WINDOW_NORMAL와 cv2.WINDOW_AUTOSIZE 간의 차이를 설명하시오. \n",
    " \n",
    "> cv2.WINDOW_NORMAL의 값은 0이고, 윈도우 크기 재조정 가능을 의미한다.  \n",
    "> 반면, cv2.WINDOW_AUTOSIZE는 값이 1이고, 표시될 행렬의 크기에 맞춰 자동 조정이 된다."
   ]
  },
  {
   "cell_type": "markdown",
   "id": "c4c68230",
   "metadata": {},
   "source": [
    "4. OpenCV이 제공하는, 마우스 이벤트와 트랙바 이벤트를 제어할 콜백 함수를 시스템에 등록하는 함수는 각각 무엇이며,  \n",
    "   인수가 어떻게 구성되었는지 자세히 설명하시오.\n",
    "   \n",
    "> 마우스 이벤트 : cv2.setMouseCallback(windowName, onMouse, param=None)  \n",
    "> onMouse    : 마우스 이벤트를 처리하는 콜백 함수    \n",
    "> windowName : 이벤트 바랭을 확인할 윈도우 이름, 문자열 \n",
    "> onMouse    : 마우스 이벤트를 처리하는 콜백 함수   \n",
    "> param      : 이벤트 처리 함수로 전달할 추가적인 사용자 정의 인수  \n",
    "\n",
    "> 트랙바 이벤트   : cv2.createTrackbar(trackbarname, winname, value count, onChange)  \n",
    "> trackbarname : 윈도우에 생성되는 트랙바 이름    \n",
    "> winname      : 트랙바의 부모 윈도우 이름(트랙바 이벤트 발생을 체크하는 윈도우)  \n",
    "> value        : 트랙바 슬라이더의 위치를 반영하는 값(정수)    \n",
    "> count        : 트랙바 슬라이더의 최댓값, 최솟값은 항상 0  \n",
    "> onChange     : 트랙바 슬라이더의 값이 변경될 때 호풀되는 콜백 함수    \n"
   ]
  },
  {
   "cell_type": "markdown",
   "id": "7f7b13e0",
   "metadata": {},
   "source": [
    "6. 300행, 400열의 행렬을 회색 바탕색(100)으로 생성해서 500행, 600열의 윈도우에 표시하시오."
   ]
  },
  {
   "cell_type": "code",
   "execution_count": 1,
   "id": "ff50c872",
   "metadata": {},
   "outputs": [],
   "source": [
    "import numpy as np\n",
    "import cv2\n",
    "\n",
    "# 300x400 행렬을 회색 바탕색으로 생성\n",
    "image = np.full((300, 400), 100, dtype=np.uint8)\n",
    "\n",
    "title1, title2 = 'NORMAL','AUTO'\n",
    "# 윈도우 생성\n",
    "cv2.namedWindow(title1, cv2.WINDOW_NORMAL)\n",
    "cv2.namedWindow(title2, cv2.WINDOW_AUTOSIZE)\n",
    "# 윈도우 크기 설정 (500x600)\n",
    "cv2.resizeWindow(title1, 600, 500)\n",
    "cv2.resizeWindow(title2, 600, 500)\n",
    "\n",
    "cv2.imshow(title1, image)\n",
    "cv2.imshow(title2, image)\n",
    "cv2.waitKey(0)\n",
    "cv2.destroyAllWindows()\n"
   ]
  },
  {
   "cell_type": "markdown",
   "id": "a7b33d8c",
   "metadata": {},
   "source": [
    "8. 200행, 300열의 행렬 2개를 만들어서 다음과 같이 배치하시오."
   ]
  },
  {
   "cell_type": "code",
   "execution_count": 1,
   "id": "6f1dd814",
   "metadata": {},
   "outputs": [],
   "source": [
    "import numpy as np\n",
    "import cv2\n",
    "\n",
    "mat1 = np.full((200,300),100,np.uint8)\n",
    "mat2 = np.full((200,300),100,np.uint8)\n",
    "\n",
    "title1, title2 = 'win mode1','win mode2'\n",
    "cv2.namedWindow(title1, cv2.WINDOW_NORMAL)\n",
    "cv2.namedWindow(title2,cv2.WINDOW_NORMAL)\n",
    "\n",
    "cv2.moveWindow(title1,0,0)\n",
    "cv2.moveWindow(title2,300,200)\n",
    "# 맥북에서는 오차가 있음\n",
    "\n",
    "cv2.imshow(title1,mat1)\n",
    "cv2.imshow(title2,mat2)\n",
    "\n",
    "cv2.waitKey(0)\n",
    "cv2.destroyAllWindows()"
   ]
  },
  {
   "cell_type": "markdown",
   "id": "19be18c6",
   "metadata": {},
   "source": [
    "10. 다음의 마우스 이벤트 제어 프로그램을 작성하시오.\n",
    "> 마우스 오른쪽 버튼 클릭 시 원(클릭 좌표에서 반지름 20화소)을 그린다.   \n",
    "> 마우스 왼쪽 버튼 클릭 시 사각형(크기 30x30)을 그린다.   "
   ]
  },
  {
   "cell_type": "code",
   "execution_count": 1,
   "id": "33bb055f",
   "metadata": {},
   "outputs": [],
   "source": [
    "import numpy as np\n",
    "import cv2\n",
    "\n",
    "def onMouse(event, x, y, flags, param):\n",
    "    global image\n",
    "    \n",
    "    if event == cv2.EVENT_RBUTTONDOWN:\n",
    "        print ('event1')\n",
    "        cv2.circle(image,(x,y),20,blue,1)\n",
    "        cv2.imshow(title, image)\n",
    "    \n",
    "    elif event == cv2.EVENT_LBUTTONDOWN:\n",
    "        print ('event2')\n",
    "        cv2.rectangle(image, (x,y),(x+30,y+30), red, 1, cv2.LINE_AA)\n",
    "        cv2.imshow(title, image)\n",
    "    \n",
    "\n",
    "\n",
    "blue, green, red = (255,0,0), (0,255,0), (0,0,255)\n",
    "image = np.full((300,500,3),255,np.uint8)\n",
    "\n",
    "title = 'Mouse Event'\n",
    "cv2.imshow(title, image)\n",
    "\n",
    "cv2.setMouseCallback(title,onMouse)\n",
    "cv2.waitKey(0)\n",
    "cv2.destroyAllWindows()"
   ]
  },
  {
   "cell_type": "markdown",
   "id": "6c800794",
   "metadata": {},
   "source": [
    "12.예제_4.2.3인 05.event_trackbar.py에서 화살표 키로 트랙바를 이동하는 코드를 추가하시오."
   ]
  },
  {
   "cell_type": "code",
   "execution_count": 1,
   "id": "89c54c55",
   "metadata": {},
   "outputs": [],
   "source": [
    "import numpy as np\n",
    "import cv2\n",
    "\n",
    "def onChange(value):\n",
    "    global image, title\n",
    "\n",
    "    add_value = value - int(image[0][0])\n",
    "    print(\"추가 화소값:\", add_value)\n",
    "    image[:] = image + add_value\n",
    "    cv2.imshow(title, image)\n",
    "\n",
    "def keyEvent(currentValue):\n",
    "    while True:\n",
    "        key = cv2.waitKeyEx(100)\n",
    "        \n",
    "        if key == 27: \n",
    "            cv2.destroyAllWindows()\n",
    "            break\n",
    "        elif key == 2424832 : \n",
    "             # onChange(value-1)\n",
    "             # 이걸로 실행하면, trackbar에 계속 우선순위를 뺏기게됨. \n",
    "             # -> 화면 전환 후, 트랙바를 눌러야 키보드 인식이 됨. (처음 트랙바 누르는건 동일)\n",
    "             cv2.setTrackbarPos('Brightness', title, max(currentValue - 1, 0))\n",
    "        elif key == 2555904 : \n",
    "            # onChange(value+1)\n",
    "            cv2.setTrackbarPos('Brightness', title, min(currentValue + 1, 255))\n",
    "        \n",
    "\n",
    "image = np.zeros((300,500),np.uint8)\n",
    "\n",
    "title = 'Trackbar Event'\n",
    "cv2.imshow(title, image)\n",
    "\n",
    "\n",
    "cv2.createTrackbar('Brightness',title, image[0][0], 255, onChange)\n",
    "keyEvent(cv2.getTrackbarPos('Brightness',title))\n",
    "\n",
    "\n"
   ]
  },
  {
   "cell_type": "markdown",
   "id": "7de24401",
   "metadata": {},
   "source": [
    "14. 심화예제 _4.3.5인 11.event_draw.py를 수정해서 마우스 중간버튼을 클릭하여 타원을 그리세요."
   ]
  },
  {
   "cell_type": "code",
   "execution_count": 1,
   "id": "87758f7a",
   "metadata": {},
   "outputs": [
    {
     "data": {
      "text/plain": [
       "27"
      ]
     },
     "execution_count": 1,
     "metadata": {},
     "output_type": "execute_result"
    }
   ],
   "source": [
    "import numpy as np\n",
    "import cv2\n",
    "\n",
    "def onMouse(event,x,y,flags,param):\n",
    "    global title, pt\n",
    "\n",
    "    if event == cv2.EVENT_LBUTTONDOWN:\n",
    "        if pt[0] < 0: pt = (x,y)\n",
    "        else:\n",
    "            cv2.rectangle(image,pt,(x,y),(255,0,0),2)\n",
    "            cv2.imshow(title,image)\n",
    "            pt = (-1,-1)\n",
    "\n",
    "    elif event == cv2.EVENT_RBUTTONDOWN:\n",
    "        if pt[0] < 0: pt = (x,y)\n",
    "        else :\n",
    "           cv2.ellipse(image, (x,y),(120,60),0,0,360,(0,255,0),2)\n",
    "           cv2.imshow(title,image)\n",
    "           pt = (-1,-1)\n",
    "\n",
    "\n",
    "    elif event == cv2.EVENT_MBUTTONDOWN:\n",
    "        if pt[0] < 0: pt = (x,y)\n",
    "        else :\n",
    "           cv2.ellipse(image, (x,y),(120,60),0,0,360,(0,255,0),2)\n",
    "           cv2.imshow(title,image)\n",
    "           pt = (-1,-1)\n",
    "\n",
    "image = np.full((300,500,3),(255,255,255),np.uint8)\n",
    "\n",
    "pt = (-1,-1)\n",
    "title = \"Draw Event\"\n",
    "cv2.imshow(title, image)\n",
    "cv2.setMouseCallback(title,onMouse)\n",
    "cv2.waitKey(0)"
   ]
  },
  {
   "cell_type": "markdown",
   "id": "72447fb3",
   "metadata": {},
   "source": [
    "16. PC 카메라를 통해서 받아온 프레임에 다음의 영상처리를 수행하고, 결과 영상을 윈도우에 표시하는 프로그램을 작성하시오.\n",
    "> 1) (200,100) 좌표에서 100 x 200 크기의 관심 영역 지정\n",
    "> 2) 관심 영역에서 녹색 성분을 50만큼 증가\n",
    "> 3) 관심 영역의 테두리를 두께 3의 빨간색으로 표시"
   ]
  },
  {
   "cell_type": "code",
   "execution_count": 1,
   "id": "bb09eb08",
   "metadata": {},
   "outputs": [
    {
     "name": "stderr",
     "output_type": "stream",
     "text": [
      "[ WARN:0@0.044] global /private/var/folders/k1/30mswbxs7r1g6zwn8y4fyt500000gp/T/abs_11nitadzeg/croot/opencv-suite_1691620374638/work/modules/videoio/src/cap_gstreamer.cpp (862) isPipelinePlaying OpenCV | GStreamer warning: GStreamer: pipeline have not been created\n"
     ]
    },
    {
     "name": "stdout",
     "output_type": "stream",
     "text": [
      "너비 1280\n",
      "높이 720\n",
      "노출 0\n",
      "밝기 0\n"
     ]
    }
   ],
   "source": [
    "import cv2\n",
    "import numpy as np\n",
    "\n",
    "def put_string(frame, text, pt, value, color=(120, 200, 90)):             # 문자열 출력 함수 - 그림자 효과\n",
    "    text += str(value)\n",
    "    shade = (pt[0] + 2, pt[1] + 2)\n",
    "    font = cv2.FONT_HERSHEY_SIMPLEX\n",
    "    cv2.putText(frame, text, shade, font, 0.7, (0, 0, 0), 2)  # 그림자 효과\n",
    "    cv2.putText(frame, text, pt, font, 0.7, (120, 200, 90), 2)  # 글자 적기\n",
    "\n",
    "capture = cv2.VideoCapture(0)  # 0번 카메라 연결\n",
    "if capture.isOpened() == False:\n",
    "    raise Exception(\"카메라 연결 안됨\")\n",
    "\n",
    "# 카메라 속성 획득 및 출력\n",
    "print(\"너비 %d\" % capture.get(cv2.CAP_PROP_FRAME_WIDTH))\n",
    "print(\"높이 %d\" % capture.get(cv2.CAP_PROP_FRAME_HEIGHT))\n",
    "print(\"노출 %d\" % capture.get(cv2.CAP_PROP_EXPOSURE))\n",
    "print(\"밝기 %d\" % capture.get(cv2.CAP_PROP_BRIGHTNESS))\n",
    "\n",
    "while True:\n",
    "    ret, frame = capture.read()  # 카메라 영상 받기\n",
    "    if not ret: break\n",
    "    if cv2.waitKey(30) >= 0: break\n",
    "\n",
    "    # 관심 영역 지정\n",
    "    cx, cy = 200, 100\n",
    "    width, height = 200, 100\n",
    "    x_start = max(cx - width // 2, 0)\n",
    "    y_start = max(cy - height // 2, 0)\n",
    "    x_end = min(cx + width // 2, frame.shape[1])\n",
    "    y_end = min(cy + height // 2, frame.shape[0])\n",
    "\n",
    "    # 관심 영역에 초록색 화소 50 추가\n",
    "    roi = frame[y_start:y_end, x_start:x_end]\n",
    "    roi[:, :, 1] = np.clip(roi[:, :, 1] + 50, 0, 255)  # G(녹색) 채널에만 50 추가\n",
    "    # roi[이미지의 높이, 이미지의 너비, 채널 인덱스(1:G 채널)]\n",
    "\n",
    "    # 테두리 그리기\n",
    "    cv2.rectangle(frame, (x_start, y_start), (x_end, y_end), (0, 0, 255), 3)\n",
    "\n",
    "    title = \"View Frame from Camera\"\n",
    "    cv2.imshow(title, frame)  # 윈도우에 영상 띄우기\n",
    "\n",
    "capture.release()"
   ]
  },
  {
   "cell_type": "markdown",
   "id": "faad2968",
   "metadata": {},
   "source": [
    "18. 다음과 같이 태극 문양을 그리는 프로그램을 작성하시오.\n",
    "> [힌트]\n",
    "> 1) 태극은 반원이 4개 필요하다.\n",
    "> 2) 반원은 타원 그리기 함수로 그릴 수 있다.\n",
    "> 3) 영상의 너비와 높이는 3:2 비율이며, 태극의 반지름은 높이의 1/4 이다."
   ]
  },
  {
   "cell_type": "code",
   "execution_count": 1,
   "id": "ed1540c2",
   "metadata": {},
   "outputs": [
    {
     "name": "stdout",
     "output_type": "stream",
     "text": [
      "(x,y) (300, 200)\n"
     ]
    }
   ],
   "source": [
    "import numpy as np\n",
    "import cv2\n",
    "\n",
    "# 300x400 행렬을 회색 바탕색으로 생성\n",
    "image = np.full((400, 600,3), 255, dtype=np.uint8)\n",
    "\n",
    "title = '태극 문양'\n",
    "# 윈도우 생성\n",
    "cv2.namedWindow(title, cv2.WINDOW_NORMAL)\n",
    "\n",
    "# x: image 행 길이의 중간, y: image 열 길이의 중간\n",
    "x = image.shape[1]//2\n",
    "y = image.shape[0]//2\n",
    "pt = (x,y)\n",
    "print('(x,y)',pt)\n",
    "radius = y//2\n",
    "\n",
    "# 타원 4개 생성\n",
    "cv2.ellipse(image, (x,y),(radius,radius),0,0,180,(0,0,255),-1)\n",
    "cv2.ellipse(image, (x,y),(radius,radius),0,180,360,(255,0,0),-1)\n",
    "cv2.ellipse(image, (x+radius//2,y),(radius//2,radius//2),0,0,180,(255,0,0),-1)\n",
    "cv2.ellipse(image, (x-radius//2,y),(radius//2,radius//2),0,180,360,(0,0,255),-1)\n",
    "\n",
    "cv2.imshow(title,image)\n",
    "cv2.waitKey(0)\n",
    "cv2.destroyAllWindows()"
   ]
  }
 ],
 "metadata": {
  "kernelspec": {
   "display_name": "Python 3 (ipykernel)",
   "language": "python",
   "name": "python3"
  },
  "language_info": {
   "codemirror_mode": {
    "name": "ipython",
    "version": 3
   },
   "file_extension": ".py",
   "mimetype": "text/x-python",
   "name": "python",
   "nbconvert_exporter": "python",
   "pygments_lexer": "ipython3",
   "version": "3.11.5"
  }
 },
 "nbformat": 4,
 "nbformat_minor": 5
}
